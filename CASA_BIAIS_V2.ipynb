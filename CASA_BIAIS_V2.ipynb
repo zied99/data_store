{
 "cells": [
  {
   "cell_type": "markdown",
   "metadata": {},
   "source": [
    "# Construction d'un dataset biasé\n",
    "- Constructionun d'un dataset \n",
    "- Les représentent 100 k demandeurs d'emploi. \n",
    "- Répartition homme femme de 70/30. \n",
    "- La probabilité de trouver un emploi après 3 mois est de 9 % pour les hommes et de 5 % pour les femmes."
   ]
  },
  {
   "cell_type": "code",
   "execution_count": 26,
   "metadata": {},
   "outputs": [],
   "source": [
    "import pandas as pd\n",
    "import numpy as np\n",
    "import seaborn as sns\n",
    "import matplotlib.pyplot as plt\n",
    "from aif360.datasets import BinaryLabelDataset\n",
    "from aif360.metrics import BinaryLabelDatasetMetric\n",
    "from aif360.metrics import ClassificationMetric\n",
    "from aif360.algorithms.preprocessing import Reweighing\n",
    "from sklearn.preprocessing import StandardScaler\n",
    "from sklearn.linear_model import LogisticRegression\n",
    "from tqdm import tqdm"
   ]
  },
  {
   "cell_type": "code",
   "execution_count": 2,
   "metadata": {},
   "outputs": [],
   "source": [
    "n_pop = 100000\n",
    "p_male = 0.7\n",
    "\n",
    "p_job_male, p_job_female = 0.09, 0.05"
   ]
  },
  {
   "cell_type": "code",
   "execution_count": 3,
   "metadata": {},
   "outputs": [],
   "source": [
    "gender = np.random.choice(['male', 'female'], size=n_pop, p=[p_male, 1 - p_male])\n",
    "\n",
    "df = pd.DataFrame({'gender' : gender})\n",
    "\n",
    "df.loc[df.gender == 'male', 'found_job'] = np.random.choice([1, 0], size=len(df.loc[df.gender == 'male']), p=[p_job_male, 1 - p_job_male])\n",
    "df.loc[df.gender == 'female', 'found_job'] = np.random.choice([1, 0], size=len(df.loc[df.gender == 'female']), p=[p_job_female, 1 - p_job_female])\n",
    "\n",
    "df['found_job'] = df['found_job'].astype(int)"
   ]
  },
  {
   "cell_type": "markdown",
   "metadata": {},
   "source": [
    "Répartition des sexes"
   ]
  },
  {
   "cell_type": "code",
   "execution_count": 12,
   "metadata": {},
   "outputs": [
    {
     "data": {
      "text/html": [
       "<div>\n",
       "<style scoped>\n",
       "    .dataframe tbody tr th:only-of-type {\n",
       "        vertical-align: middle;\n",
       "    }\n",
       "\n",
       "    .dataframe tbody tr th {\n",
       "        vertical-align: top;\n",
       "    }\n",
       "\n",
       "    .dataframe thead th {\n",
       "        text-align: right;\n",
       "    }\n",
       "</style>\n",
       "<table border=\"1\" class=\"dataframe\">\n",
       "  <thead>\n",
       "    <tr style=\"text-align: right;\">\n",
       "      <th>found_job</th>\n",
       "      <th>0</th>\n",
       "      <th>1</th>\n",
       "    </tr>\n",
       "    <tr>\n",
       "      <th>gender</th>\n",
       "      <th></th>\n",
       "      <th></th>\n",
       "    </tr>\n",
       "  </thead>\n",
       "  <tbody>\n",
       "    <tr>\n",
       "      <th>female</th>\n",
       "      <td>28551</td>\n",
       "      <td>1456</td>\n",
       "    </tr>\n",
       "    <tr>\n",
       "      <th>male</th>\n",
       "      <td>63719</td>\n",
       "      <td>6274</td>\n",
       "    </tr>\n",
       "  </tbody>\n",
       "</table>\n",
       "</div>"
      ],
      "text/plain": [
       "<div>\n",
       "<style scoped>\n",
       "    .dataframe tbody tr th:only-of-type {\n",
       "        vertical-align: middle;\n",
       "    }\n",
       "\n",
       "    .dataframe tbody tr th {\n",
       "        vertical-align: top;\n",
       "    }\n",
       "\n",
       "    .dataframe thead th {\n",
       "        text-align: right;\n",
       "    }\n",
       "</style>\n",
       "<table border=\"1\" class=\"dataframe\">\n",
       "  <thead>\n",
       "    <tr style=\"text-align: right;\">\n",
       "      <th>found_job</th>\n",
       "      <th>0</th>\n",
       "      <th>1</th>\n",
       "    </tr>\n",
       "    <tr>\n",
       "      <th>gender</th>\n",
       "      <th></th>\n",
       "      <th></th>\n",
       "    </tr>\n",
       "  </thead>\n",
       "  <tbody>\n",
       "    <tr>\n",
       "      <th>female</th>\n",
       "      <td>28551</td>\n",
       "      <td>1456</td>\n",
       "    </tr>\n",
       "    <tr>\n",
       "      <th>male</th>\n",
       "      <td>63719</td>\n",
       "      <td>6274</td>\n",
       "    </tr>\n",
       "  </tbody>\n",
       "</table>\n",
       "</div>"
      ]
     },
     "execution_count": 12,
     "metadata": {},
     "output_type": "execute_result"
    }
   ],
   "source": [
    "df.pivot_table(index='gender', columns='found_job', aggfunc='size')"
   ]
  },
  {
   "cell_type": "code",
   "execution_count": 15,
   "metadata": {},
   "outputs": [
    {
     "name": "stdout",
     "output_type": "stream",
     "text": [
      "   gender  found_job\n",
      "0  female          0\n",
      "1    male          0\n",
      "2  female          0\n",
      "3    male          0\n",
      "4  female          1\n",
      "5  female          0\n",
      "6    male          0\n",
      "7  female          0\n",
      "8    male          0\n",
      "9    male          0\n"
     ]
    }
   ],
   "source": [
    "print(df.head(10))"
   ]
  },
  {
   "cell_type": "markdown",
   "metadata": {},
   "source": [
    "Attribuer des âges à chaque demandeur d'emploi en échantillonnant à partir d'une distribution gaussienne (moyenne de mu et un écart type de sigma)"
   ]
  },
  {
   "cell_type": "markdown",
   "metadata": {},
   "source": [
    "- On va faire deux distribution gaussiénne : une pour les demandeurs d'emploi qui trouvent un emploi, et une pour les demandeurs d'emploi qui ne trouvent pas d'emploi. \n",
    "- La répartition par âge des demandeurs d'emploi qui trouvent un emploi ont une moyenne plus faible (ceci pour refléter le fait qu'il est plus facile pour les jeunes demandeurs d'emploi de trouver du travail.)"
   ]
  },
  {
   "cell_type": "code",
   "execution_count": 4,
   "metadata": {},
   "outputs": [],
   "source": [
    "mu_job, sigma_job = 45, 8\n",
    "mu_no_job, sigma_no_job = 55, 10"
   ]
  },
  {
   "cell_type": "code",
   "execution_count": 5,
   "metadata": {},
   "outputs": [],
   "source": [
    "df.loc[df.found_job == 1, 'age'] = np.floor(np.random.normal(mu_job, sigma_job, len(df.loc[df.found_job == 1])))\n",
    "df.loc[df.found_job == 0, 'age'] = np.floor(np.random.normal(mu_no_job, sigma_no_job, len(df.loc[df.found_job == 0])))\n",
    "\n",
    "df['age'] = df['age'].astype(int)"
   ]
  },
  {
   "cell_type": "code",
   "execution_count": 6,
   "metadata": {},
   "outputs": [
    {
     "data": {
      "text/html": [
       "<div>\n",
       "<style scoped>\n",
       "    .dataframe tbody tr th:only-of-type {\n",
       "        vertical-align: middle;\n",
       "    }\n",
       "\n",
       "    .dataframe tbody tr th {\n",
       "        vertical-align: top;\n",
       "    }\n",
       "\n",
       "    .dataframe thead th {\n",
       "        text-align: right;\n",
       "    }\n",
       "</style>\n",
       "<table border=\"1\" class=\"dataframe\">\n",
       "  <thead>\n",
       "    <tr style=\"text-align: right;\">\n",
       "      <th></th>\n",
       "      <th>age</th>\n",
       "    </tr>\n",
       "    <tr>\n",
       "      <th>found_job</th>\n",
       "      <th></th>\n",
       "    </tr>\n",
       "  </thead>\n",
       "  <tbody>\n",
       "    <tr>\n",
       "      <th>0</th>\n",
       "      <td>54.5</td>\n",
       "    </tr>\n",
       "    <tr>\n",
       "      <th>1</th>\n",
       "      <td>44.5</td>\n",
       "    </tr>\n",
       "  </tbody>\n",
       "</table>\n",
       "</div>"
      ],
      "text/plain": [
       "            age\n",
       "found_job      \n",
       "0          54.5\n",
       "1          44.5"
      ]
     },
     "execution_count": 6,
     "metadata": {},
     "output_type": "execute_result"
    }
   ],
   "source": [
    "df.groupby('found_job').mean().round(1)"
   ]
  },
  {
   "cell_type": "markdown",
   "metadata": {},
   "source": [
    "- Créer la classe socio-économique (A, B ou C) , pour désigner respectivement les classes supérieure, moyenne et inférieure.\n",
    "- Comme pour la répartition par âge, nous pouvons échantillonner à partir de deux distributions : une pour les demandeurs d'emploi qui trouvent un emploi, et une pour les demandeurs d'emploi qui ne trouvent pas d'emploi. \n",
    "- Pour les poids des distributions: \n",
    "    - Les demandeurs d'emploi qui trouvent un emploi ont tendance à appartenir aux classes socio-économiques supérieures, \n",
    "    - Les demandeurs d'emploi qui ne trouvent pas d'emploi ont tendance à appartenir aux classes socio-économiques inférieures."
   ]
  },
  {
   "cell_type": "code",
   "execution_count": 7,
   "metadata": {},
   "outputs": [],
   "source": [
    "class_set = ['A', 'B', 'C']\n",
    "class_wt_job = [0.4, 0.4, 0.2]\n",
    "class_wt_no_job = [0.2, 0.3, 0.5]"
   ]
  },
  {
   "cell_type": "code",
   "execution_count": 8,
   "metadata": {},
   "outputs": [],
   "source": [
    "df.loc[df.found_job == 1, 'class'] = np.random.choice(class_set, size=len(df.loc[df.found_job == 1]), p=class_wt_job)\n",
    "df.loc[df.found_job == 0, 'class'] = np.random.choice(class_set, size=len(df.loc[df.found_job == 0]), p=class_wt_no_job)"
   ]
  },
  {
   "cell_type": "code",
   "execution_count": 9,
   "metadata": {},
   "outputs": [
    {
     "data": {
      "text/html": [
       "<div>\n",
       "<style scoped>\n",
       "    .dataframe tbody tr th:only-of-type {\n",
       "        vertical-align: middle;\n",
       "    }\n",
       "\n",
       "    .dataframe tbody tr th {\n",
       "        vertical-align: top;\n",
       "    }\n",
       "\n",
       "    .dataframe thead th {\n",
       "        text-align: right;\n",
       "    }\n",
       "</style>\n",
       "<table border=\"1\" class=\"dataframe\">\n",
       "  <thead>\n",
       "    <tr style=\"text-align: right;\">\n",
       "      <th>found_job</th>\n",
       "      <th>0</th>\n",
       "      <th>1</th>\n",
       "    </tr>\n",
       "    <tr>\n",
       "      <th>class</th>\n",
       "      <th></th>\n",
       "      <th></th>\n",
       "    </tr>\n",
       "  </thead>\n",
       "  <tbody>\n",
       "    <tr>\n",
       "      <th>A</th>\n",
       "      <td>18420</td>\n",
       "      <td>3107</td>\n",
       "    </tr>\n",
       "    <tr>\n",
       "      <th>B</th>\n",
       "      <td>27701</td>\n",
       "      <td>3132</td>\n",
       "    </tr>\n",
       "    <tr>\n",
       "      <th>C</th>\n",
       "      <td>46061</td>\n",
       "      <td>1579</td>\n",
       "    </tr>\n",
       "  </tbody>\n",
       "</table>\n",
       "</div>"
      ],
      "text/plain": [
       "found_job      0     1\n",
       "class                 \n",
       "A          18420  3107\n",
       "B          27701  3132\n",
       "C          46061  1579"
      ]
     },
     "execution_count": 9,
     "metadata": {},
     "output_type": "execute_result"
    }
   ],
   "source": [
    "df.pivot_table(index='class', columns='found_job', aggfunc='size')"
   ]
  },
  {
   "cell_type": "markdown",
   "metadata": {},
   "source": [
    "Afficher la dataframe"
   ]
  },
  {
   "cell_type": "code",
   "execution_count": 23,
   "metadata": {},
   "outputs": [
    {
     "name": "stdout",
     "output_type": "stream",
     "text": [
      "       gender  found_job  age class\n",
      "0      female          0   61     C\n",
      "1        male          0   35     B\n",
      "2      female          0   55     C\n",
      "3        male          0   44     B\n",
      "4      female          1   54     B\n",
      "...       ...        ...  ...   ...\n",
      "99995  female          0   30     C\n",
      "99996    male          0   58     B\n",
      "99997    male          0   55     C\n",
      "99998    male          0   38     C\n",
      "99999  female          0   44     C\n",
      "\n",
      "[100000 rows x 4 columns]\n"
     ]
    }
   ],
   "source": [
    "print(df)"
   ]
  },
  {
   "cell_type": "markdown",
   "metadata": {},
   "source": [
    "Verifier la réparttion du déquilibrage definit lors des étapes précedentes"
   ]
  },
  {
   "cell_type": "code",
   "execution_count": 10,
   "metadata": {},
   "outputs": [
    {
     "name": "stdout",
     "output_type": "stream",
     "text": [
      "        found_job\n",
      "gender           \n",
      "female      0.049\n",
      "male        0.091\n"
     ]
    }
   ],
   "source": [
    "agg_gender = df[['gender', 'found_job']].groupby('gender').mean()\n",
    "print(agg_gender.round(3))"
   ]
  },
  {
   "cell_type": "markdown",
   "metadata": {},
   "source": [
    "- Tracer le biais definit par un barplot\n",
    "- Sur le meme graphique tracer une ligne en pointillée qui correspond à la probabilité globale de trouver un emploi"
   ]
  },
  {
   "cell_type": "code",
   "execution_count": 12,
   "metadata": {},
   "outputs": [
    {
     "data": {
      "image/png": "[encoded data removed]",
      "text/plain": [
       "<Figure size 720x504 with 1 Axes>"
      ]
     },
     "metadata": {
      "needs_background": "light"
     },
     "output_type": "display_data"
    }
   ],
   "source": [
    "mean_found_job = df['found_job'].mean()\n",
    "\n",
    "fig, ax1 = plt.subplots(figsize=(10, 7))\n",
    "sns.barplot(x=agg_gender.index, y=agg_gender.found_job, ax=ax1).\\\n",
    "set_title('Proportion of total who find a job', fontsize=16, fontweight='bold')\n",
    "ax1.axhline(mean_found_job, color='k', linestyle=':')\n",
    "ax1.set(xlabel='', ylabel='')\n",
    "ax1.xaxis.set_tick_params(labelsize=14)\n",
    "ax1.yaxis.set_tick_params(labelsize=14)"
   ]
  },
  {
   "cell_type": "markdown",
   "metadata": {},
   "source": [
    "Quelle est la valeur de ce seuil"
   ]
  },
  {
   "cell_type": "code",
   "execution_count": 14,
   "metadata": {},
   "outputs": [
    {
     "name": "stdout",
     "output_type": "stream",
     "text": [
      "0.078\n"
     ]
    }
   ],
   "source": [
    "print(mean_found_job.round(3))"
   ]
  },
  {
   "cell_type": "markdown",
   "metadata": {},
   "source": [
    "Expliquer briévement la signification de ce seuil"
   ]
  },
  {
   "cell_type": "markdown",
   "metadata": {},
   "source": [
    "==> Les hommes ont une probabilité supérieure à la moyenne de trouver un emploi, tandis que les femmes ont une probabilité inférieure à la moyenne de trouver un emploi."
   ]
  },
  {
   "cell_type": "markdown",
   "metadata": {},
   "source": [
    "# Introduction de la librairie AIF360"
   ]
  },
  {
   "cell_type": "markdown",
   "metadata": {},
   "source": [
    "Conversion du dataset au format aif360: \n",
    "- Faite du OnhotEncoding sur les variables sexe et classe"
   ]
  },
  {
   "cell_type": "code",
   "execution_count": 16,
   "metadata": {},
   "outputs": [],
   "source": [
    "df_onehot = pd.concat([df[['found_job', 'age']], pd.get_dummies(df[['gender', 'class']])], axis=1)\n"
   ]
  },
  {
   "cell_type": "markdown",
   "metadata": {},
   "source": [
    "- On va considérer une labelisation binaire (soit le demandeur trouven un emploi, soit il n'en trouve pas).\n",
    "- Nous convertissons donc les données en un BinaryLabelDataset, \n",
    "- Nommer cet attribut binaire par exemple (found_job) \n",
    "- Pour létude du biais nous allos garder seulement l'attribut gender_female, donc nous supprimons la colonne gender_male car elle présente entre autre des informations redondantes."
   ]
  },
  {
   "cell_type": "code",
   "execution_count": 17,
   "metadata": {},
   "outputs": [
    {
     "name": "stdout",
     "output_type": "stream",
     "text": [
      "               instance weights features                                      \\\n",
      "                                         protected attribute                   \n",
      "                                     age       gender_female class_A class_B   \n",
      "instance names                                                                 \n",
      "0                           1.0     61.0                 0.0     0.0     0.0   \n",
      "1                           1.0     22.0                 1.0     0.0     1.0   \n",
      "2                           1.0     54.0                 0.0     0.0     1.0   \n",
      "3                           1.0     59.0                 0.0     1.0     0.0   \n",
      "4                           1.0     37.0                 1.0     0.0     0.0   \n",
      "...                         ...      ...                 ...     ...     ...   \n",
      "99995                       1.0     56.0                 0.0     0.0     0.0   \n",
      "99996                       1.0     61.0                 0.0     0.0     0.0   \n",
      "99997                       1.0     59.0                 0.0     0.0     0.0   \n",
      "99998                       1.0     64.0                 1.0     0.0     0.0   \n",
      "99999                       1.0     61.0                 1.0     1.0     0.0   \n",
      "\n",
      "                       labels  \n",
      "                               \n",
      "               class_C         \n",
      "instance names                 \n",
      "0                  1.0    0.0  \n",
      "1                  0.0    0.0  \n",
      "2                  0.0    0.0  \n",
      "3                  0.0    0.0  \n",
      "4                  1.0    0.0  \n",
      "...                ...    ...  \n",
      "99995              1.0    0.0  \n",
      "99996              1.0    0.0  \n",
      "99997              1.0    0.0  \n",
      "99998              1.0    0.0  \n",
      "99999              0.0    0.0  \n",
      "\n",
      "[100000 rows x 7 columns]\n"
     ]
    }
   ],
   "source": [
    "df_aif = BinaryLabelDataset(df=df_onehot.drop('gender_male', axis=1), label_names=['found_job'], protected_attribute_names=['gender_female'])\n",
    "print(df_aif)"
   ]
  },
  {
   "cell_type": "markdown",
   "metadata": {},
   "source": [
    "Definir les préviléges des groupes (0/1) de la colonne gender_female"
   ]
  },
  {
   "cell_type": "code",
   "execution_count": 22,
   "metadata": {},
   "outputs": [],
   "source": [
    "privileged_group = [{'gender_female': 0}]\n",
    "unprivileged_group = [{'gender_female': 1}]"
   ]
  },
  {
   "cell_type": "markdown",
   "metadata": {},
   "source": [
    "Diviser le dataset en un ensemble de test, de train et de validation "
   ]
  },
  {
   "cell_type": "code",
   "execution_count": 23,
   "metadata": {},
   "outputs": [
    {
     "name": "stdout",
     "output_type": "stream",
     "text": [
      "[(50000, 5), (30000, 5), (20000, 5)]\n"
     ]
    }
   ],
   "source": [
    "df_orig_trn, df_orig_val, df_orig_tst = df_aif.split([0.5, 0.8], shuffle=True)\n",
    "print([x.features.shape for x in [df_orig_trn, df_orig_val, df_orig_tst]])"
   ]
  },
  {
   "cell_type": "markdown",
   "metadata": {},
   "source": [
    "On va maintenant choisir une fairness metric et l'appliquer sur l'ensemble du dataset"
   ]
  },
  {
   "cell_type": "markdown",
   "metadata": {},
   "source": [
    "Cette metrique fait référence aux diverses tentatives de correction des biais algorithmiques dans les processus de décision automatisés basés sur des modèles d'apprentissage automatique."
   ]
  },
  {
   "cell_type": "markdown",
   "metadata": {},
   "source": [
    "Il existe différentes mesures de fairness dans aif360, mais celle sur laquelle nous nous concentrerons est la disparate ipact (DI). Il s'agit de la probabilité de succès étant donné que le demandeur d'emploi est non privilégié (femme),divisée par la probabilité de succès étant donné que le demandeur d'emploi est privilégié (homme). Nous reformulons cela en 1 - min(DI, 1/DI), puisque DI peut être supérieur à 1, ce qui signifierait que le groupe privilégié est désavantagé. Pour notre indice de référence d'équité, nous exigeons que 1 - min(DI, 1/DI) < 0,2."
   ]
  },
  {
   "cell_type": "code",
   "execution_count": 27,
   "metadata": {},
   "outputs": [
    {
     "name": "stdout",
     "output_type": "stream",
     "text": [
      "1-min(DI, 1/DI): 0.461\n"
     ]
    }
   ],
   "source": [
    "metric_orig_trn = BinaryLabelDatasetMetric(df_orig_trn, unprivileged_group, privileged_group)\n",
    "\n",
    "\n",
    "def get_disparity_index(di):\n",
    "    return 1 - np.minimum(di, 1 / di)\n",
    "\n",
    "\n",
    "print('1-min(DI, 1/DI):', get_disparity_index(metric_orig_trn.disparate_impact()).round(3))"
   ]
  },
  {
   "cell_type": "markdown",
   "metadata": {},
   "source": [
    "Cette valeur de 1 - min(DI, 1/DI) confirme que l'ensemble de données d'origine est biaisé. Si la valeur est de 0. Donc il n y a pas de biais. Ce n'est pas le cas ici"
   ]
  },
  {
   "cell_type": "markdown",
   "metadata": {},
   "source": [
    "# Entrainner un modéle et mesurer le biais"
   ]
  },
  {
   "cell_type": "markdown",
   "metadata": {},
   "source": [
    "- Choisir un logitique regression comme classifieur"
   ]
  },
  {
   "cell_type": "code",
   "execution_count": 33,
   "metadata": {},
   "outputs": [],
   "source": [
    "def train_lr_model(dataset):\n",
    "    scale = StandardScaler().fit(dataset.features)\n",
    "    model = LogisticRegression(random_state=0, solver='liblinear')\n",
    "    x_train = scale.transform(dataset.features)\n",
    "    y_train = dataset.labels.ravel()\n",
    "    model.fit(x_train, y_train, sample_weight=dataset.instance_weights)\n",
    "    y_train_pred = model.predict(x_train)\n",
    "    return model, scale"
   ]
  },
  {
   "cell_type": "code",
   "execution_count": 34,
   "metadata": {},
   "outputs": [],
   "source": [
    "lr_orig, lr_scale_orig = train_lr_model(df_orig_trn)"
   ]
  },
  {
   "cell_type": "markdown",
   "metadata": {},
   "source": [
    "- Notre objectif maintenant c'est de: \n",
    "    + Trouver la meilleur modélisation qui donne la meilleur accuracy (noter bien le seil associé et l'accuracy)\n",
    "    + Calculer au fur et à mesure le biais"
   ]
  },
  {
   "cell_type": "code",
   "execution_count": 35,
   "metadata": {},
   "outputs": [
    {
     "name": "stderr",
     "output_type": "stream",
     "text": [
      "100%|██████████| 100/100 [00:06<00:00, 15.63it/s]"
     ]
    },
    {
     "name": "stdout",
     "output_type": "stream",
     "text": [
      "Threshold corresponding to best balanced accuracy: 0.084\n",
      "Best balanced accuracy: 0.753\n",
      "1-min(DI, 1/DI): 0.522\n"
     ]
    },
    {
     "name": "stderr",
     "output_type": "stream",
     "text": [
      "\n"
     ]
    }
   ],
   "source": [
    "thresh_arr = np.linspace(0.01, 0.5, 100)\n",
    "\n",
    "\n",
    "def get_y_pred_prob_lr(scale, model, dataset):\n",
    "    x = scale.transform(dataset.features)\n",
    "    y_pred_prob = model.predict_proba(x)\n",
    "    return y_pred_prob\n",
    "\n",
    "\n",
    "y_validate_pred_prob_orig = get_y_pred_prob_lr(scale=lr_scale_orig, model=lr_orig, dataset=df_orig_val)\n",
    "\n",
    "\n",
    "def get_bal_acc(classified_metric):\n",
    "    return 0.5 * (classified_metric.true_positive_rate() + classified_metric.true_negative_rate())\n",
    "\n",
    "\n",
    "def get_best_bal_acc_cutoff(y_pred_prob, dataset):\n",
    "    y_validate_pred_prob = y_pred_prob\n",
    "    bal_acc_arr = []\n",
    "    disp_imp_arr = []\n",
    "\n",
    "    for thresh in tqdm(thresh_arr):\n",
    "        y_validate_pred = (y_validate_pred_prob[:, 1] > thresh).astype(np.double)\n",
    "        dataset_pred = dataset.copy()\n",
    "        dataset_pred.labels = y_validate_pred\n",
    "\n",
    "        # Calculate accuracy for each threshold value\n",
    "        classified_metric = ClassificationMetric(dataset, dataset_pred, unprivileged_group, privileged_group)\n",
    "        bal_acc = get_bal_acc(classified_metric)\n",
    "        bal_acc_arr.append(bal_acc)\n",
    "\n",
    "        # Calculate fairness for each threshold value\n",
    "        metric_pred = BinaryLabelDatasetMetric(dataset_pred, unprivileged_group, privileged_group)\n",
    "        disp_imp_arr.append(metric_pred.disparate_impact())\n",
    "\n",
    "    # Find threshold for best accuracy\n",
    "    thresh_arr_best_ind = np.where(bal_acc_arr == np.max(bal_acc_arr))[0][0]\n",
    "    thresh_arr_best = np.array(thresh_arr)[thresh_arr_best_ind]\n",
    "\n",
    "    # Calculate accuracy and fairness at this threshold\n",
    "    best_bal_acc = bal_acc_arr[thresh_arr_best_ind]\n",
    "    disp_imp_at_best_bal_acc = disp_imp_arr[thresh_arr_best_ind]\n",
    "\n",
    "    # Output metrics\n",
    "    acc_metrics = pd.DataFrame({'thresh_arr_best_ind': thresh_arr_best_ind, \\\n",
    "                                'thresh_arr_best': thresh_arr_best, \\\n",
    "                                'best_bal_acc': best_bal_acc, \\\n",
    "                                'disp_imp_at_best_bal_acc': disp_imp_at_best_bal_acc}, index=[0]).transpose()\n",
    "    return acc_metrics, bal_acc_arr, disp_imp_arr, dataset_pred.labels\n",
    "\n",
    "\n",
    "acc_metrics_orig, bal_acc_arr_orig, disp_imp_arr_orig, dataset_pred_labels_orig = \\\n",
    "    get_best_bal_acc_cutoff(y_pred_prob=y_validate_pred_prob_orig, dataset=df_orig_val)\n",
    "\n",
    "print('Threshold corresponding to best balanced accuracy:', acc_metrics_orig.loc['thresh_arr_best', 0].round(3))\n",
    "print('Best balanced accuracy:', acc_metrics_orig.loc['best_bal_acc', 0].round(3))\n",
    "print('1-min(DI, 1/DI):', get_disparity_index(acc_metrics_orig.loc['disp_imp_at_best_bal_acc', 0]).round(3))\n",
    "\n"
   ]
  },
  {
   "cell_type": "markdown",
   "metadata": {},
   "source": [
    "Expliquer le résultat obtenu"
   ]
  },
  {
   "cell_type": "markdown",
   "metadata": {},
   "source": [
    "==> Cela montre que le seuil avec la meilleure précision est de 0,094. À ce seuil, notre métrique de précision (précision équilibrée) est de 0,753, mais notre métrique d'équité (1-min(DI, 1/DI)) est de 0,522, ce qui indique un biais. Nous pouvons tracer ces mesures de précision et d'équité sur une plage de seuils de classification :"
   ]
  },
  {
   "cell_type": "markdown",
   "metadata": {},
   "source": [
    "+ On remarque aussi que meme avec la determination du meilleur seuil statistique et meilleur accuracy, il y a un biais. (calculé par le disparate impact)"
   ]
  },
  {
   "cell_type": "markdown",
   "metadata": {},
   "source": [
    "- Dessiner les courbes suivantes:\n",
    "    - Accuracy * Seuil\n",
    "    - DI * Seuil"
   ]
  },
  {
   "cell_type": "code",
   "execution_count": 37,
   "metadata": {},
   "outputs": [
    {
     "data": {
      "image/png": "[encoded data removed]",
      "text/plain": [
       "<Figure size 720x504 with 2 Axes>"
      ]
     },
     "metadata": {
      "needs_background": "light"
     },
     "output_type": "display_data"
    }
   ],
   "source": [
    "\n",
    "def plot_acc_vs_fairness(metric, metric_name, bal_acc_arr, thresh_arr_best_ind):\n",
    "    fig, ax1 = plt.subplots(figsize=(10, 7))\n",
    "    ax1.plot(thresh_arr, bal_acc_arr, color='b')\n",
    "    ax1.set_xlabel('Classification Thresholds', fontsize=16, fontweight='bold')\n",
    "    ax1.set_ylabel('Balanced Accuracy', color='b', fontsize=16, fontweight='bold')\n",
    "    ax1.xaxis.set_tick_params(labelsize=14)\n",
    "    ax1.yaxis.set_tick_params(labelsize=14, labelcolor='b')\n",
    "    ax2 = ax1.twinx()\n",
    "    ax2.plot(thresh_arr, metric, color='r')\n",
    "    ax2.set_ylabel(metric_name, color='r', fontsize=16, fontweight='bold')\n",
    "    ax2.axvline(np.array(thresh_arr)[thresh_arr_best_ind], color='k', linestyle=':')\n",
    "    ax2.yaxis.set_tick_params(labelsize=14, labelcolor='r')\n",
    "    ax2.grid(True)\n",
    "\n",
    "\n",
    "plot_acc_vs_fairness(get_disparity_index(np.array(disp_imp_arr_orig)), \\\n",
    "                     '1-min(DI, 1/DI)', bal_acc_arr_orig, \\\n",
    "                     acc_metrics_orig.loc['thresh_arr_best_ind', 0].astype(int))"
   ]
  },
  {
   "cell_type": "markdown",
   "metadata": {},
   "source": [
    "Interpreter la signification des deux courbes"
   ]
  },
  {
   "cell_type": "markdown",
   "metadata": {},
   "source": [
    "On vois sur la courbe que la meilleur accuracy trouvé est le pique en bleu, qui corresponde au seuil (Threshol associé de 0.084)\n",
    "Dans la courbe rouge, on vois si on réequilibre à 0.084, le biais sera de 0.522, ce qui est un biais énorme\n"
   ]
  },
  {
   "cell_type": "markdown",
   "metadata": {},
   "source": [
    "Completer alors les valeurs de nos 3 metriques : Accuracy, seuil, DI sur le jeu de test"
   ]
  },
  {
   "cell_type": "code",
   "execution_count": 38,
   "metadata": {},
   "outputs": [
    {
     "name": "stdout",
     "output_type": "stream",
     "text": [
      "Threshold corresponding to best balanced accuracy: 0.084\n",
      "Best balanced accuracy: 0.748\n",
      "1-min(DI, 1/DI): 0.511\n"
     ]
    }
   ],
   "source": [
    "y_test_pred_prob_orig = get_y_pred_prob_lr(scale=lr_scale_orig, model=lr_orig, dataset=df_orig_tst)\n",
    "\n",
    "\n",
    "def test_lr_model(y_data_pred_prob, dataset, thresh_arr):\n",
    "    y_pred = (y_data_pred_prob[:, 1] > thresh_arr).astype(np.double)\n",
    "    dataset_pred = dataset.copy()\n",
    "    dataset_pred.labels = y_pred\n",
    "    classified_metric = ClassificationMetric(dataset, dataset_pred, unprivileged_group, privileged_group)\n",
    "    metric_pred = BinaryLabelDatasetMetric(dataset_pred, unprivileged_group, privileged_group)\n",
    "    return dataset_pred.labels, classified_metric, metric_pred\n",
    "\n",
    "\n",
    "dataset_pred_labels_orig, classified_metric_orig, metric_pred_orig = test_lr_model( \\\n",
    "    y_data_pred_prob=y_test_pred_prob_orig, dataset=df_orig_tst, \\\n",
    "    thresh_arr=acc_metrics_orig.loc['thresh_arr_best', 0])\n",
    "\n",
    "print('Threshold corresponding to best balanced accuracy:', acc_metrics_orig.loc['thresh_arr_best', 0].round(3))\n",
    "print('Best balanced accuracy:', get_bal_acc(classified_metric_orig).round(3))\n",
    "print('1-min(DI, 1/DI):', get_disparity_index(metric_pred_orig.disparate_impact()).round(3))"
   ]
  },
  {
   "cell_type": "markdown",
   "metadata": {},
   "source": [
    "Expliquer les résultats"
   ]
  },
  {
   "cell_type": "markdown",
   "metadata": {},
   "source": [
    "==> Comme pour l'ensemble de données de validation, nous nous retrouvons avec une bonne précision, mais une mauvaise métrique de Fairness. Cela montre que si nous ne considérons que la précision (comme c'est souvent le cas dans de nombreuses organisations), nous nous retrouvons avec un modèle biasé."
   ]
  },
  {
   "cell_type": "markdown",
   "metadata": {},
   "source": [
    "# Calibrage des données"
   ]
  },
  {
   "cell_type": "markdown",
   "metadata": {},
   "source": [
    "Pour Traiter le biais, On va dans un premier temps transformer notre jeu de donnée par la technique \"Reweighing\". Cela attribue des pondérations différentes aux différentes entités de la population pour garantir le fairness."
   ]
  },
  {
   "cell_type": "code",
   "execution_count": 39,
   "metadata": {},
   "outputs": [],
   "source": [
    "RW = Reweighing(unprivileged_group, privileged_group)\n",
    "df_transf_trn = RW.fit_transform(df_orig_trn)"
   ]
  },
  {
   "cell_type": "markdown",
   "metadata": {},
   "source": [
    "# Calcul du fairness metric sur la dataset transformé"
   ]
  },
  {
   "cell_type": "code",
   "execution_count": 42,
   "metadata": {},
   "outputs": [
    {
     "name": "stdout",
     "output_type": "stream",
     "text": [
      "1-min(DI, 1/DI): 0.0\n"
     ]
    }
   ],
   "source": [
    "metric_transf_trn = BinaryLabelDatasetMetric(df_transf_trn, unprivileged_group, privileged_group)\n",
    "print('1-min(DI, 1/DI):', get_disparity_index(metric_transf_trn.disparate_impact()).round(3))"
   ]
  },
  {
   "cell_type": "markdown",
   "metadata": {},
   "source": [
    "Que remarquez-vous ?"
   ]
  },
  {
   "cell_type": "markdown",
   "metadata": {},
   "source": [
    "==> Lorsque nous calculons la métrique d'équité sur l'ensemble de données transformé, nous constatons qu'il est équitable."
   ]
  },
  {
   "cell_type": "markdown",
   "metadata": {},
   "source": [
    "# Entrainer un modéle sur le dataset non-biaisé (équilibré)"
   ]
  },
  {
   "cell_type": "markdown",
   "metadata": {},
   "source": [
    "Refaire un autre modéle sur le jeu de donnée transformé, et on noter l'ensemble des metriques. Utiliser le jeu de données de validation dans ce cas"
   ]
  },
  {
   "cell_type": "code",
   "execution_count": 43,
   "metadata": {},
   "outputs": [],
   "source": [
    "lr_transf, lr_scale_transf = train_lr_model(df_transf_trn)"
   ]
  },
  {
   "cell_type": "code",
   "execution_count": 44,
   "metadata": {},
   "outputs": [
    {
     "name": "stderr",
     "output_type": "stream",
     "text": [
      "100%|██████████| 100/100 [00:04<00:00, 24.60it/s]"
     ]
    },
    {
     "name": "stdout",
     "output_type": "stream",
     "text": [
      "Threshold corresponding to best balanced accuracy: 0.079\n",
      "Best balanced accuracy: 0.749\n",
      "1-min(DI, 1/DI): 0.107\n"
     ]
    },
    {
     "name": "stderr",
     "output_type": "stream",
     "text": [
      "\n"
     ]
    }
   ],
   "source": [
    "y_validate_pred_prob_transf = get_y_pred_prob_lr(scale=lr_scale_transf, model=lr_transf, dataset=df_orig_val)\n",
    "acc_metrics_transf, bal_acc_arr_transf, disp_imp_arr_transf, dataset_pred_labels_transf = \\\n",
    "    get_best_bal_acc_cutoff(y_pred_prob=y_validate_pred_prob_transf, dataset=df_orig_val)\n",
    "\n",
    "print('Threshold corresponding to best balanced accuracy:', acc_metrics_transf.loc['thresh_arr_best', 0].round(3))\n",
    "print('Best balanced accuracy:', acc_metrics_transf.loc['best_bal_acc', 0].round(3))\n",
    "print('1-min(DI, 1/DI):', get_disparity_index(acc_metrics_transf.loc['disp_imp_at_best_bal_acc', 0]).round(3))\n"
   ]
  },
  {
   "cell_type": "markdown",
   "metadata": {},
   "source": [
    "Expliquer le résultat"
   ]
  },
  {
   "cell_type": "markdown",
   "metadata": {},
   "source": [
    "==> Cela montre que le seuil avec la meilleure précision est de 0,079. À ce seuil, notre métrique de précision (précision équilibrée) est de 0,749, et notre métrique d'équité (1-min(DI, 1/DI)) est de 0,107, ce qui n'indique aucun biais. "
   ]
  },
  {
   "cell_type": "markdown",
   "metadata": {},
   "source": [
    "Tracer l'ensemble de mesures précision et DI sur une plage de seuils de classification"
   ]
  },
  {
   "cell_type": "code",
   "execution_count": 45,
   "metadata": {},
   "outputs": [
    {
     "data": {
      "image/png": "[encoded data removed]",
      "text/plain": [
       "<Figure size 720x504 with 2 Axes>"
      ]
     },
     "metadata": {
      "needs_background": "light"
     },
     "output_type": "display_data"
    }
   ],
   "source": [
    "plot_acc_vs_fairness(get_disparity_index(np.array(disp_imp_arr_transf)), \\\n",
    "  '1-min(DI, 1/DI)', bal_acc_arr_transf, \\\n",
    "  acc_metrics_orig.loc['thresh_arr_best_ind', 0].astype(int))"
   ]
  },
  {
   "cell_type": "markdown",
   "metadata": {},
   "source": [
    "Interpreter la courbe"
   ]
  },
  {
   "cell_type": "markdown",
   "metadata": {},
   "source": [
    "- On vois sur la courbe que la meilleur accuracy trouvé est le pique en bleu 0.749, qui corresponde au seuil (Threshol associé de 0.079)\n",
    "- Dans la courbe rouge, on vois si on réequilibre à ce seuil 0.089, le biais sera de 0.107, ce qui est un biais acceptable"
   ]
  },
  {
   "cell_type": "markdown",
   "metadata": {},
   "source": [
    "# Tester le model sur le dataset non-biaisé (equilibré)"
   ]
  },
  {
   "cell_type": "markdown",
   "metadata": {},
   "source": [
    "Noter l'ensemble des mesures obtenues"
   ]
  },
  {
   "cell_type": "code",
   "execution_count": 47,
   "metadata": {},
   "outputs": [
    {
     "name": "stdout",
     "output_type": "stream",
     "text": [
      "Threshold corresponding to best balanced accuracy: 0.079\n",
      "Best balanced accuracy: 0.743\n",
      "1-min(DI, 1/DI): 0.1\n"
     ]
    }
   ],
   "source": [
    "y_test_pred_prob_transf = get_y_pred_prob_lr(scale=lr_scale_transf, model=lr_transf, dataset=df_orig_tst)\n",
    "\n",
    "dataset_pred_labels_transf, classified_metric_transf, metric_pred_transf = test_lr_model(\\\n",
    "  y_data_pred_prob=y_test_pred_prob_transf, dataset=df_orig_tst,\\\n",
    "  thresh_arr=acc_metrics_transf.loc['thresh_arr_best', 0])\n",
    "\n",
    "print('Threshold corresponding to best balanced accuracy:', acc_metrics_transf.loc['thresh_arr_best', 0].round(3))\n",
    "print('Best balanced accuracy:', get_bal_acc(classified_metric_transf).round(3))\n",
    "print('1-min(DI, 1/DI):', get_disparity_index(metric_pred_transf.disparate_impact()).round(3))"
   ]
  },
  {
   "cell_type": "markdown",
   "metadata": {},
   "source": [
    "Interpreter le résultat"
   ]
  },
  {
   "cell_type": "markdown",
   "metadata": {},
   "source": [
    "Comme pour l'ensemble de données de validation, nous nous retrouvons avec une bonne métrique de précision et de fairness. L'atténuation du biais a entraîné une légère détérioration de la précision (de 0,748 à 0,749), mais une amélioration considérable de l'équité (0,511 à 0,107). Cela montre que des modèles à la fois précis et justes peuvent être construits sur des données biaisées, à condition que l'atténuation des biais soit appliquée de manière appropriée."
   ]
  },
  {
   "cell_type": "markdown",
   "metadata": {},
   "source": [
    "# Conclusion"
   ]
  },
  {
   "cell_type": "markdown",
   "metadata": {},
   "source": [
    "Nous avons vu ici comment un ensemble de données avec un biais historique entraînera des modèles construits dessus pour produire des résultats injustes. Dans notre scénario, plus de ressources seraient allouées aux hommes, car ils ont toujours été plus susceptibles de trouver un emploi. En effet, les techniques d'apprentissage automatique traditionnelles optimisent uniquement la précision, pas l'équité.Nous avons également vu qu'en appliquant des techniques simples d'atténuation des biais, nous pouvons supprimer le biais de l'ensemble de données et ainsi créer des modèles avec une précision comparable, mais des mesures d'équité bien meilleures. Ces techniques de détection et d'atténuation des biais sont très pertinentes pour toute organisation cherchant à automatiser la prise de décision sur les populations aux attributs protégés."
   ]
  },
  {
   "cell_type": "code",
   "execution_count": null,
   "metadata": {},
   "outputs": [],
   "source": []
  }
 ],
 "metadata": {
  "kernelspec": {
   "display_name": "Python 3",
   "language": "python",
   "name": "python3"
  },
  "language_info": {
   "codemirror_mode": {
    "name": "ipython",
    "version": 3
   },
   "file_extension": ".py",
   "mimetype": "text/x-python",
   "name": "python",
   "nbconvert_exporter": "python",
   "pygments_lexer": "ipython3",
   "version": "3.6.9"
  }
 },
 "nbformat": 4,
 "nbformat_minor": 1
}
